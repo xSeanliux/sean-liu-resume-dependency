{
 "cells": [
  {
   "cell_type": "code",
   "execution_count": 1,
   "metadata": {},
   "outputs": [],
   "source": [
    "from pdf_wrapper import PDFWrapper"
   ]
  },
  {
   "attachments": {},
   "cell_type": "markdown",
   "metadata": {},
   "source": [
    "Get all file names in `./data`"
   ]
  },
  {
   "cell_type": "code",
   "execution_count": 2,
   "metadata": {},
   "outputs": [
    {
     "name": "stdout",
     "output_type": "stream",
     "text": [
      "./data/pdf/Yoon-current-cv-web.pdf\n",
      "./data/pdf/cv_7.pdf\n",
      "./data/pdf/cv (1).pdf\n",
      "./data/pdf/jihualde_CV.pdf\n",
      "./data/pdf/BhattCV 221.pdf\n",
      "./data/pdf/CV_Sean_Liu.pdf\n",
      "./data/pdf/cv-amato.pdf\n",
      "./data/pdf/cv-Qizheng2022.pdf\n",
      "./data/pdf/vita_web.pdf\n",
      "./data/pdf/cv.pdf\n"
     ]
    }
   ],
   "source": [
    "import os\n",
    "\n",
    "dir = \"./data/pdf\"\n",
    "\n",
    "filenames = []\n",
    "\n",
    "for filename in os.listdir(dir):\n",
    "    path = os.path.join(dir, filename)\n",
    "    if(os.path.isfile(path)):\n",
    "        print(path)\n"
   ]
  },
  {
   "attachments": {},
   "cell_type": "markdown",
   "metadata": {},
   "source": [
    "For each filename w/o a JSON file, make one"
   ]
  },
  {
   "cell_type": "code",
   "execution_count": 3,
   "metadata": {},
   "outputs": [
    {
     "name": "stdout",
     "output_type": "stream",
     "text": [
      "Using laparams =  <LAParams: char_margin=2.0, line_margin=0.5, word_margin=0.1 all_texts=False>\n"
     ]
    },
    {
     "name": "stderr",
     "output_type": "stream",
     "text": [
      "22it [00:04,  4.72it/s]\n"
     ]
    }
   ],
   "source": [
    "wrapper_obj = PDFWrapper(fname = \"./data/pdf/CV_Sean_Liu.pdf\")"
   ]
  },
  {
   "cell_type": "code",
   "execution_count": 15,
   "metadata": {},
   "outputs": [],
   "source": [
    "def convert_to_ls(x, y, width, height, original_width, original_height):\n",
    "    return x / original_width * 100.0, y / original_height * 100.0, \\\n",
    "           width / original_width * 100.0, height / original_height * 100\n",
    "\n",
    "original_width = wrapper_obj.page_width\n",
    "original_height = wrapper_obj.page_height"
   ]
  },
  {
   "cell_type": "code",
   "execution_count": 18,
   "metadata": {},
   "outputs": [],
   "source": [
    "\n",
    "\n",
    "def get_json(wrapper_obj):\n",
    "    # gets the JSON content as a string from wrapper_obj\n",
    "    lines = wrapper_obj.get_lines()\n",
    "    annotations = []\n",
    "    for n_page, page_line in enumerate(lines[:2]): \n",
    "        for line in page_line:\n",
    "            x0, y0, width, height = wrapper_obj.get_bounding_box(line)\n",
    "            x, y, width_t, height_t = convert_to_ls(x0, y0, width, height, original_width, original_height)\n",
    "            annotations.append({\n",
    "                'text': line.get_text(),\n",
    "                'page': n_page,\n",
    "                'original_dimensions': {\n",
    "                    'x0': x0,\n",
    "                    'y0': y0,\n",
    "                    'width': width,\n",
    "                    'height': height\n",
    "                },\n",
    "                'x': x,\n",
    "                'y': y,\n",
    "                'w'\n",
    "                \n",
    "            })\n",
    "\n",
    "    return annotations\n"
   ]
  },
  {
   "cell_type": "code",
   "execution_count": 20,
   "metadata": {},
   "outputs": [
    {
     "name": "stdout",
     "output_type": "stream",
     "text": [
      "2550.0\n",
      "{'text': 'Jeff Erickson\\n', 'page': 0, 'x0': 1071.029166666667, 'y0': 233.26060375000026, 'width': 15.99760712418302, 'height': 2.086729797979792}\n"
     ]
    }
   ],
   "source": [
    "res = get_json(wrapper_obj)\n",
    "print(original_width)\n",
    "print(res[0])"
   ]
  },
  {
   "cell_type": "code",
   "execution_count": null,
   "metadata": {},
   "outputs": [],
   "source": []
  }
 ],
 "metadata": {
  "kernelspec": {
   "display_name": "base",
   "language": "python",
   "name": "python3"
  },
  "language_info": {
   "codemirror_mode": {
    "name": "ipython",
    "version": 3
   },
   "file_extension": ".py",
   "mimetype": "text/x-python",
   "name": "python",
   "nbconvert_exporter": "python",
   "pygments_lexer": "ipython3",
   "version": "3.9.13"
  },
  "orig_nbformat": 4,
  "vscode": {
   "interpreter": {
    "hash": "c6e4e9f98eb68ad3b7c296f83d20e6de614cb42e90992a65aa266555a3137d0d"
   }
  }
 },
 "nbformat": 4,
 "nbformat_minor": 2
}
