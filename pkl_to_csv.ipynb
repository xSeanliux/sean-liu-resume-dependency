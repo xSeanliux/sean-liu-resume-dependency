{
 "cells": [
  {
   "cell_type": "code",
   "execution_count": 1,
   "metadata": {},
   "outputs": [],
   "source": [
    "import pickle as pkl\n",
    "import numpy as np\n",
    "from tqdm import tqdm\n",
    "import os\n",
    "import json"
   ]
  },
  {
   "cell_type": "code",
   "execution_count": 11,
   "metadata": {},
   "outputs": [],
   "source": [
    "in_dir = \"data/pkl_fine\"\n",
    "in_file = \"cv.pkl\"\n",
    "out_dir = \"data/json/\"\n",
    "out_file = \"data_fine.json\""
   ]
  },
  {
   "cell_type": "code",
   "execution_count": 12,
   "metadata": {},
   "outputs": [],
   "source": [
    "in_path = f'{in_dir}/{in_file}'\n",
    "out_path = f'{out_dir}/{out_file}'"
   ]
  },
  {
   "cell_type": "code",
   "execution_count": 22,
   "metadata": {},
   "outputs": [
    {
     "name": "stdout",
     "output_type": "stream",
     "text": [
      "100\n",
      "{'text': 'Jeff Erickson', 'page': 0, 'idx_in_page': 0, 'original_dimensions': {'x0': 357.00972222222225, 'y0': 77.75353458333335, 'width': 135.97966055555563, 'height': 22.954027777777714}, 'x': 42.001143790849675, 'y': 7.068503143939394, 'width': 15.997607124183014, 'height': 2.0867297979797925}\n",
      "0\n"
     ]
    },
    {
     "ename": "IndexError",
     "evalue": "list index out of range",
     "output_type": "error",
     "traceback": [
      "\u001b[0;31m---------------------------------------------------------------------------\u001b[0m",
      "\u001b[0;31mIndexError\u001b[0m                                Traceback (most recent call last)",
      "\u001b[0;32m/var/folders/0g/8cm9dpv57cbbpvxymjj_16f00000gn/T/ipykernel_97801/942275230.py\u001b[0m in \u001b[0;36m<cell line: 1>\u001b[0;34m()\u001b[0m\n\u001b[1;32m      7\u001b[0m     \u001b[0mprint\u001b[0m\u001b[0;34m(\u001b[0m\u001b[0mjson_format\u001b[0m\u001b[0;34m[\u001b[0m\u001b[0mbuf_idx\u001b[0m\u001b[0;34m]\u001b[0m\u001b[0;34m)\u001b[0m\u001b[0;34m\u001b[0m\u001b[0;34m\u001b[0m\u001b[0m\n\u001b[1;32m      8\u001b[0m     \u001b[0mprint\u001b[0m\u001b[0;34m(\u001b[0m\u001b[0mlen\u001b[0m\u001b[0;34m(\u001b[0m\u001b[0mlines\u001b[0m\u001b[0;34m)\u001b[0m\u001b[0;34m)\u001b[0m\u001b[0;34m\u001b[0m\u001b[0;34m\u001b[0m\u001b[0m\n\u001b[0;32m----> 9\u001b[0;31m     \u001b[0mlinebuf\u001b[0m \u001b[0;34m=\u001b[0m \u001b[0mlines\u001b[0m\u001b[0;34m[\u001b[0m\u001b[0mjson_format\u001b[0m\u001b[0;34m[\u001b[0m\u001b[0mbuf_idx\u001b[0m\u001b[0;34m]\u001b[0m\u001b[0;34m[\u001b[0m\u001b[0;34m'page'\u001b[0m\u001b[0;34m]\u001b[0m\u001b[0;34m]\u001b[0m\u001b[0;34m[\u001b[0m\u001b[0mjson_format\u001b[0m\u001b[0;34m[\u001b[0m\u001b[0mbuf_idx\u001b[0m\u001b[0;34m]\u001b[0m\u001b[0;34m[\u001b[0m\u001b[0;34m'idx_in_page'\u001b[0m\u001b[0;34m]\u001b[0m\u001b[0;34m]\u001b[0m\u001b[0;34m\u001b[0m\u001b[0;34m\u001b[0m\u001b[0m\n\u001b[0m\u001b[1;32m     10\u001b[0m     \u001b[0mfontname\u001b[0m \u001b[0;34m=\u001b[0m \u001b[0mlinebuf\u001b[0m\u001b[0;34m.\u001b[0m\u001b[0mfontname\u001b[0m\u001b[0;34m.\u001b[0m\u001b[0mlower\u001b[0m\u001b[0;34m(\u001b[0m\u001b[0;34m)\u001b[0m\u001b[0;34m\u001b[0m\u001b[0;34m\u001b[0m\u001b[0m\n\u001b[1;32m     11\u001b[0m     \u001b[0mboldbuf\u001b[0m \u001b[0;34m=\u001b[0m \u001b[0;36m1\u001b[0m \u001b[0;32mif\u001b[0m \u001b[0;34m\"bold\"\u001b[0m \u001b[0;32min\u001b[0m \u001b[0mfontname\u001b[0m \u001b[0;32melse\u001b[0m \u001b[0;36m0\u001b[0m\u001b[0;34m\u001b[0m\u001b[0;34m\u001b[0m\u001b[0m\n",
      "\u001b[0;31mIndexError\u001b[0m: list index out of range"
     ]
    }
   ],
   "source": [
    "with open(in_path, \"rb\") as f_in, open(out_path, \"w\") as f_out:\n",
    "    data = pkl.load(f_in)\n",
    "    json_format = data.json_format\n",
    "    print((data.wrapper.render_dpi))\n",
    "    \n",
    "    buf_idx = 0\n",
    "    print(json_format[buf_idx])\n",
    "    print(len(lines))\n",
    "    linebuf = lines[json_format[buf_idx]['page']][json_format[buf_idx]['idx_in_page']]\n",
    "    fontname = linebuf.fontname.lower()\n",
    "    boldbuf = 1 if \"bold\" in fontname else 0\n",
    "    italbuf = 1 if \"italic\" in fontname else 0"
   ]
  },
  {
   "cell_type": "code",
   "execution_count": 32,
   "metadata": {},
   "outputs": [],
   "source": [
    "from pdf_wrapper import PDFWrapper\n",
    "def get_record(in_path):\n",
    "    with open(in_path, \"rb\") as f_in, open(out_path, \"w\") as f_out:\n",
    "        data = pkl.load(f_in)\n",
    "        json_format = data.json_format\n",
    "        pdf_path = in_path.replace(\"pkl_fine\", \"pdf\")\n",
    "        pdf_path = pdf_path.replace(\".pkl\", \".pdf\")\n",
    "        wrapper = PDFWrapper(fname = pdf_path)\n",
    "        lines = wrapper.lines\n",
    "        for record in tqdm(data.record):\n",
    "            # print(record)\n",
    "            buf_idx = record['from']\n",
    "            stk_idx = record['to']\n",
    "            type_str = record['type']\n",
    "            buf_string = None\n",
    "            stk_string = None\n",
    "            lbuf = None\n",
    "            rbuf = None \n",
    "            lstk = None \n",
    "            rstk = None \n",
    "            hstk = None\n",
    "            boldbuf = None\n",
    "            italbuf = None\n",
    "            boldstk = None\n",
    "            italstk = None\n",
    "            hbuf = None\n",
    "            if(buf_idx == -1):\n",
    "                buf_string = \"$ROOT\"\n",
    "                lbuf = 0\n",
    "                rbuf = 100\n",
    "                hbuf = 30\n",
    "                boldbuf = 0\n",
    "                italbuf = 0\n",
    "            else:\n",
    "                buf_string = \"$ROOT\" if buf_idx == -1 else json_format[buf_idx]['text']\n",
    "                lbuf = json_format[buf_idx]['x']\n",
    "                rbuf = json_format[buf_idx]['x'] + json_format[buf_idx]['width']\n",
    "                hbuf = int(json_format[buf_idx]['height'])\n",
    "                try:\n",
    "                    linebuf = lines[json_format[buf_idx]['page']][json_format[buf_idx]['idx_in_page']]\n",
    "                except:\n",
    "                    print(f\"Tried to get line #{json_format[buf_idx]['idx_in_page']} of page {json_format[buf_idx]['page']}; document has {len(wrapper.elements)}/{len(wrapper.lines)} pages, and that page has {len(lines[json_format[buf_idx]['idx_in_page']])} lines\")\n",
    "                    raise KeyError\n",
    "                fontname = linebuf._objs[0].fontname.lower()\n",
    "                boldbuf = 1 if \"bold\" in fontname else 0\n",
    "                italbuf = 1 if \"italic\" in fontname else 0\n",
    "\n",
    "            if(stk_idx == -1):\n",
    "                stk_string = \"$ROOT\"\n",
    "                lstk = 0\n",
    "                rstk = 100\n",
    "                hstk = 30\n",
    "                boldbuf = 0\n",
    "                italbuf = 0\n",
    "            else:\n",
    "                stk_string = \"$ROOT\" if stk_idx == -1 else json_format[stk_idx]['text']\n",
    "                lstk = json_format[stk_idx]['x']\n",
    "                rstk = json_format[stk_idx]['x'] + json_format[stk_idx]['width']\n",
    "                hstk = int(json_format[stk_idx]['height'])\n",
    "                linebuf = lines[json_format[stk_idx]['page']][json_format[stk_idx]['idx_in_page']]\n",
    "                fontname = linebuf._objs[0].fontname.lower()\n",
    "                boldbuf = 1 if \"bold\" in fontname else 0\n",
    "                italbuf = 1 if \"italic\" in fontname else 0\n",
    "            yield {\n",
    "                'buf_str': buf_string,\n",
    "                'lbuf': lbuf,\n",
    "                'rbuf': rbuf,\n",
    "                'hbuf': hbuf,\n",
    "                'boldbuf': boldbuf,\n",
    "                'italbuf': italbuf,\n",
    "                'stk_str': stk_string,\n",
    "                'lstk': lstk,\n",
    "                'rstk': rstk,\n",
    "                'boldstk': boldstk,\n",
    "                'italstk': italstk,\n",
    "                'type': type_str,\n",
    "                'hstk': hstk\n",
    "            }\n",
    "            # print(f'{buf_string},{stk_string},{type_str}')\n"
   ]
  },
  {
   "cell_type": "code",
   "execution_count": 5,
   "metadata": {},
   "outputs": [
    {
     "ename": "SyntaxError",
     "evalue": "invalid syntax (1777237566.py, line 23)",
     "output_type": "error",
     "traceback": [
      "\u001b[0;36m  Cell \u001b[0;32mIn[5], line 23\u001b[0;36m\u001b[0m\n\u001b[0;31m    entry['to'] =\u001b[0m\n\u001b[0m                  ^\u001b[0m\n\u001b[0;31mSyntaxError\u001b[0m\u001b[0;31m:\u001b[0m invalid syntax\n"
     ]
    }
   ],
   "source": [
    "# # fix a bug where the discard function had the from and to indices both point to themselves \n",
    "\n",
    "# def fix_discard(in_path):\n",
    "    \n",
    "#     data = None\n",
    "#     print(in_path)\n",
    "#     with open(in_path, \"rb\") as f_in:\n",
    "#         data = pkl.load(f_in)\n",
    "\n",
    "#     stack = [-1] \n",
    "\n",
    "#     for entry in data.record:\n",
    "#         print(\"ORIGINAL\", entry)\n",
    "#         if(entry['type'] == 'pop'):\n",
    "#             stack.pop()\n",
    "#         if(entry['type'] == 'merge'):\n",
    "#             stack.pop()\n",
    "#             stack.append(entry['from'])\n",
    "#         if(entry['type'] == 'subordinate'):\n",
    "#             stack.append(entry['from'])\n",
    "#         if(entry['type'] == 'discard'):\n",
    "#             entry['to'] = stack[-1]\n",
    "#         entry['to'] = \n",
    "\n",
    "#     with open(in_path, \"wb\") as f_out:\n",
    "#         pkl.dump(data, f_out)\n",
    "#         # above line is pretty dangerous, should wait until everything is ready\n",
    "\n",
    "\n",
    "# def lengthen_sentences(in_path, out_path):\n",
    "#     data = None\n",
    "#     print(in_path)\n",
    "#     with open(in_path, \"rb\") as f_in:\n",
    "#         data = pkl.load(f_in)\n",
    "\n",
    "#     stack = [-1] \n",
    "#     current_text = \"\"\n",
    "#     for entry in data.record:\n",
    "#         print(\"ORIGINAL\", entry)\n",
    "#         if(entry['type'] == 'pop'):\n",
    "#             stack.pop()\n",
    "#         if(entry['type'] == 'merge'):\n",
    "#             stack.pop()\n",
    "#             stack.append(entry['from'])\n",
    "#         if(entry['type'] == 'subordinate'):\n",
    "#             stack.append(entry['from'])\n",
    "#         if(entry['type'] == 'discard'):\n",
    "#             entry['to'] = stack[-1]\n",
    "#         entry['to'] = \n",
    "\n",
    "#     with open(out_path, \"wb\") as f_out:\n",
    "#         pkl.dump(data, f_out)\n",
    "#         # above line is pretty dangerous, should wait until everything is ready"
   ]
  },
  {
   "cell_type": "code",
   "execution_count": 33,
   "metadata": {},
   "outputs": [],
   "source": [
    "def pkl_to_json(in_dir = \"data/pkl_fine\", out_dir = \"data/json/\", out_name = \"data_fine.json\"):\n",
    "    to_write = {\n",
    "        'buf_str': [],\n",
    "        'lbuf': [],\n",
    "        'rbuf': [],\n",
    "        'hbuf': [],\n",
    "        'boldbuf': [],\n",
    "        'italbuf': [],\n",
    "        'stk_str': [],\n",
    "        'lstk': [],\n",
    "        'rstk': [],\n",
    "        'hstk': [],\n",
    "        'boldstk': [],\n",
    "        'italstk': [],\n",
    "        'type': []\n",
    "    }\n",
    "\n",
    "    for file in os.listdir(in_dir):\n",
    "        full_path = f'{in_dir}/{file}'\n",
    "        print(full_path)\n",
    "        if(os.path.isfile(full_path)):\n",
    "            for entry in get_record(full_path):\n",
    "                for key, val in entry.items():\n",
    "                    to_write[key].append(val)\n",
    "                    # print(key, val)\n",
    "    # print(to_write)\n",
    "    print(f'Found {len(to_write[\"buf_str\"])} elements')\n",
    "    out_path = f'{out_dir}/{out_name}'  \n",
    "\n",
    "    with open(out_path, \"w\") as f_out:\n",
    "        json.dump(to_write, f_out)"
   ]
  },
  {
   "cell_type": "code",
   "execution_count": 34,
   "metadata": {},
   "outputs": [
    {
     "name": "stdout",
     "output_type": "stream",
     "text": [
      "data/pkl_fine/Yoon-current-cv-web.pkl\n",
      "Using laparams =  <LAParams: char_margin=2.0, line_margin=0.5, word_margin=0.1 all_texts=False>\n"
     ]
    },
    {
     "name": "stderr",
     "output_type": "stream",
     "text": [
      "36it [00:01, 22.85it/s]\n",
      "100%|██████████| 1996/1996 [00:00<00:00, 203357.72it/s]\n"
     ]
    },
    {
     "name": "stdout",
     "output_type": "stream",
     "text": [
      "data/pkl_fine/cv (1).pkl\n",
      "Using laparams =  <LAParams: char_margin=2.0, line_margin=0.5, word_margin=0.1 all_texts=False>\n"
     ]
    },
    {
     "name": "stderr",
     "output_type": "stream",
     "text": [
      "17it [00:03,  5.12it/s]\n",
      "  4%|▍         | 47/1163 [00:00<00:00, 138241.44it/s]"
     ]
    },
    {
     "name": "stdout",
     "output_type": "stream",
     "text": [
      "Tried to get line #32 of page 0; document has 142 pages, and that page has 33 lines\n"
     ]
    },
    {
     "name": "stderr",
     "output_type": "stream",
     "text": [
      "\n"
     ]
    },
    {
     "ename": "KeyError",
     "evalue": "",
     "output_type": "error",
     "traceback": [
      "\u001b[0;31m---------------------------------------------------------------------------\u001b[0m",
      "\u001b[0;31mIndexError\u001b[0m                                Traceback (most recent call last)",
      "\u001b[0;32m/var/folders/0g/8cm9dpv57cbbpvxymjj_16f00000gn/T/ipykernel_97801/2376982590.py\u001b[0m in \u001b[0;36mget_record\u001b[0;34m(in_path)\u001b[0m\n\u001b[1;32m     39\u001b[0m                 \u001b[0;32mtry\u001b[0m\u001b[0;34m:\u001b[0m\u001b[0;34m\u001b[0m\u001b[0;34m\u001b[0m\u001b[0m\n\u001b[0;32m---> 40\u001b[0;31m                     \u001b[0mlinebuf\u001b[0m \u001b[0;34m=\u001b[0m \u001b[0mlines\u001b[0m\u001b[0;34m[\u001b[0m\u001b[0mjson_format\u001b[0m\u001b[0;34m[\u001b[0m\u001b[0mbuf_idx\u001b[0m\u001b[0;34m]\u001b[0m\u001b[0;34m[\u001b[0m\u001b[0;34m'page'\u001b[0m\u001b[0;34m]\u001b[0m\u001b[0;34m]\u001b[0m\u001b[0;34m[\u001b[0m\u001b[0mjson_format\u001b[0m\u001b[0;34m[\u001b[0m\u001b[0mbuf_idx\u001b[0m\u001b[0;34m]\u001b[0m\u001b[0;34m[\u001b[0m\u001b[0;34m'idx_in_page'\u001b[0m\u001b[0;34m]\u001b[0m\u001b[0;34m]\u001b[0m\u001b[0;34m\u001b[0m\u001b[0;34m\u001b[0m\u001b[0m\n\u001b[0m\u001b[1;32m     41\u001b[0m                 \u001b[0;32mexcept\u001b[0m\u001b[0;34m:\u001b[0m\u001b[0;34m\u001b[0m\u001b[0;34m\u001b[0m\u001b[0m\n",
      "\u001b[0;31mIndexError\u001b[0m: list index out of range",
      "\nDuring handling of the above exception, another exception occurred:\n",
      "\u001b[0;31mKeyError\u001b[0m                                  Traceback (most recent call last)",
      "\u001b[0;32m/var/folders/0g/8cm9dpv57cbbpvxymjj_16f00000gn/T/ipykernel_97801/1177820487.py\u001b[0m in \u001b[0;36m<cell line: 1>\u001b[0;34m()\u001b[0m\n\u001b[0;32m----> 1\u001b[0;31m \u001b[0mpkl_to_json\u001b[0m\u001b[0;34m(\u001b[0m\u001b[0;34m)\u001b[0m\u001b[0;34m\u001b[0m\u001b[0;34m\u001b[0m\u001b[0m\n\u001b[0m",
      "\u001b[0;32m/var/folders/0g/8cm9dpv57cbbpvxymjj_16f00000gn/T/ipykernel_97801/3001969561.py\u001b[0m in \u001b[0;36mpkl_to_json\u001b[0;34m(in_dir, out_dir, out_name)\u001b[0m\n\u001b[1;32m     20\u001b[0m         \u001b[0mprint\u001b[0m\u001b[0;34m(\u001b[0m\u001b[0mfull_path\u001b[0m\u001b[0;34m)\u001b[0m\u001b[0;34m\u001b[0m\u001b[0;34m\u001b[0m\u001b[0m\n\u001b[1;32m     21\u001b[0m         \u001b[0;32mif\u001b[0m\u001b[0;34m(\u001b[0m\u001b[0mos\u001b[0m\u001b[0;34m.\u001b[0m\u001b[0mpath\u001b[0m\u001b[0;34m.\u001b[0m\u001b[0misfile\u001b[0m\u001b[0;34m(\u001b[0m\u001b[0mfull_path\u001b[0m\u001b[0;34m)\u001b[0m\u001b[0;34m)\u001b[0m\u001b[0;34m:\u001b[0m\u001b[0;34m\u001b[0m\u001b[0;34m\u001b[0m\u001b[0m\n\u001b[0;32m---> 22\u001b[0;31m             \u001b[0;32mfor\u001b[0m \u001b[0mentry\u001b[0m \u001b[0;32min\u001b[0m \u001b[0mget_record\u001b[0m\u001b[0;34m(\u001b[0m\u001b[0mfull_path\u001b[0m\u001b[0;34m)\u001b[0m\u001b[0;34m:\u001b[0m\u001b[0;34m\u001b[0m\u001b[0;34m\u001b[0m\u001b[0m\n\u001b[0m\u001b[1;32m     23\u001b[0m                 \u001b[0;32mfor\u001b[0m \u001b[0mkey\u001b[0m\u001b[0;34m,\u001b[0m \u001b[0mval\u001b[0m \u001b[0;32min\u001b[0m \u001b[0mentry\u001b[0m\u001b[0;34m.\u001b[0m\u001b[0mitems\u001b[0m\u001b[0;34m(\u001b[0m\u001b[0;34m)\u001b[0m\u001b[0;34m:\u001b[0m\u001b[0;34m\u001b[0m\u001b[0;34m\u001b[0m\u001b[0m\n\u001b[1;32m     24\u001b[0m                     \u001b[0mto_write\u001b[0m\u001b[0;34m[\u001b[0m\u001b[0mkey\u001b[0m\u001b[0;34m]\u001b[0m\u001b[0;34m.\u001b[0m\u001b[0mappend\u001b[0m\u001b[0;34m(\u001b[0m\u001b[0mval\u001b[0m\u001b[0;34m)\u001b[0m\u001b[0;34m\u001b[0m\u001b[0;34m\u001b[0m\u001b[0m\n",
      "\u001b[0;32m/var/folders/0g/8cm9dpv57cbbpvxymjj_16f00000gn/T/ipykernel_97801/2376982590.py\u001b[0m in \u001b[0;36mget_record\u001b[0;34m(in_path)\u001b[0m\n\u001b[1;32m     41\u001b[0m                 \u001b[0;32mexcept\u001b[0m\u001b[0;34m:\u001b[0m\u001b[0;34m\u001b[0m\u001b[0;34m\u001b[0m\u001b[0m\n\u001b[1;32m     42\u001b[0m                     \u001b[0mprint\u001b[0m\u001b[0;34m(\u001b[0m\u001b[0;34mf\"Tried to get line #{json_format[buf_idx]['idx_in_page']} of page {json_format[buf_idx]['page']}; document has {len(lines)} pages, and that page has {len(lines[json_format[buf_idx]['idx_in_page']])} lines\"\u001b[0m\u001b[0;34m)\u001b[0m\u001b[0;34m\u001b[0m\u001b[0;34m\u001b[0m\u001b[0m\n\u001b[0;32m---> 43\u001b[0;31m                     \u001b[0;32mraise\u001b[0m \u001b[0mKeyError\u001b[0m\u001b[0;34m\u001b[0m\u001b[0;34m\u001b[0m\u001b[0m\n\u001b[0m\u001b[1;32m     44\u001b[0m                 \u001b[0mfontname\u001b[0m \u001b[0;34m=\u001b[0m \u001b[0mlinebuf\u001b[0m\u001b[0;34m.\u001b[0m\u001b[0m_objs\u001b[0m\u001b[0;34m[\u001b[0m\u001b[0;36m0\u001b[0m\u001b[0;34m]\u001b[0m\u001b[0;34m.\u001b[0m\u001b[0mfontname\u001b[0m\u001b[0;34m.\u001b[0m\u001b[0mlower\u001b[0m\u001b[0;34m(\u001b[0m\u001b[0;34m)\u001b[0m\u001b[0;34m\u001b[0m\u001b[0;34m\u001b[0m\u001b[0m\n\u001b[1;32m     45\u001b[0m                 \u001b[0mboldbuf\u001b[0m \u001b[0;34m=\u001b[0m \u001b[0;36m1\u001b[0m \u001b[0;32mif\u001b[0m \u001b[0;34m\"bold\"\u001b[0m \u001b[0;32min\u001b[0m \u001b[0mfontname\u001b[0m \u001b[0;32melse\u001b[0m \u001b[0;36m0\u001b[0m\u001b[0;34m\u001b[0m\u001b[0;34m\u001b[0m\u001b[0m\n",
      "\u001b[0;31mKeyError\u001b[0m: "
     ]
    }
   ],
   "source": [
    "pkl_to_json()\n"
   ]
  },
  {
   "cell_type": "code",
   "execution_count": null,
   "metadata": {},
   "outputs": [],
   "source": []
  }
 ],
 "metadata": {
  "kernelspec": {
   "display_name": "sp23",
   "language": "python",
   "name": "python3"
  },
  "language_info": {
   "codemirror_mode": {
    "name": "ipython",
    "version": 3
   },
   "file_extension": ".py",
   "mimetype": "text/x-python",
   "name": "python",
   "nbconvert_exporter": "python",
   "pygments_lexer": "ipython3",
   "version": "3.9.13"
  },
  "orig_nbformat": 4,
  "vscode": {
   "interpreter": {
    "hash": "ff3b2c9d663614f3977b65735ceb4b5f1b8eea6ba2762bc66636352610c8026c"
   }
  }
 },
 "nbformat": 4,
 "nbformat_minor": 2
}
