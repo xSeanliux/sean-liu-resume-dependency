{
 "cells": [
  {
   "cell_type": "code",
   "execution_count": null,
   "metadata": {},
   "outputs": [],
   "source": [
    "import pandas as pd \n",
    "import torch\n",
    "from torchmetrics import Accuracy\n",
    "import transformers\n",
    "import lightning.pytorch as pl\n",
    "from tqdm import tqdm"
   ]
  },
  {
   "cell_type": "code",
   "execution_count": 3,
   "metadata": {},
   "outputs": [
    {
     "data": {
      "text/plain": [
       "True"
      ]
     },
     "execution_count": 3,
     "metadata": {},
     "output_type": "execute_result"
    }
   ],
   "source": [
    "torch.cuda.is_available()"
   ]
  },
  {
   "cell_type": "code",
   "execution_count": 4,
   "metadata": {},
   "outputs": [
    {
     "name": "stdout",
     "output_type": "stream",
     "text": [
      "buf_str    (January 31, 2021)\n",
      "stk_str    James Hye Suk Yoon\n",
      "type                  discard\n",
      "Name: 1, dtype: object\n"
     ]
    }
   ],
   "source": [
    "df = pd.read_json(\"../data/json/data_fine.json\")\n",
    "print(df.iloc[1])\n",
    "\n",
    "all_labels = sorted(list(set(df['type'].tolist())))\n",
    "n_classes = len(all_labels)\n",
    "label_idx = {lab: i for i, lab in enumerate(all_labels)}\n",
    "idx_label = {i: lab for i, lab in enumerate(all_labels)}"
   ]
  },
  {
   "cell_type": "code",
   "execution_count": 5,
   "metadata": {},
   "outputs": [],
   "source": [
    "from torch.utils.data import Dataset\n",
    "from torch.utils.data import DataLoader\n",
    "\n",
    "class ResumeDataset(Dataset):\n",
    "    def __init__(self, data_dir):\n",
    "        self.df = pd.read_json(data_dir)\n",
    "    def __len__(self):\n",
    "        return len(self.df)\n",
    "    def __getitem__(self, idx):\n",
    "        element = self.df.iloc[idx]\n",
    "        return element.buf_str, element.stk_str, label_idx[element.type]\n"
   ]
  },
  {
   "cell_type": "code",
   "execution_count": 18,
   "metadata": {},
   "outputs": [],
   "source": [
    "from transformers import BartTokenizerFast\n",
    "from transformers import BartForSequenceClassification"
   ]
  },
  {
   "cell_type": "code",
   "execution_count": 7,
   "metadata": {},
   "outputs": [],
   "source": [
    "tokenizer = BartTokenizerFast.from_pretrained(\"facebook/bart-base\")"
   ]
  },
  {
   "cell_type": "code",
   "execution_count": 8,
   "metadata": {},
   "outputs": [],
   "source": [
    "resume_dataset = ResumeDataset(\"../data/json/data_fine.json\")\n",
    "total_count = len(resume_dataset)\n",
    "train_count = int(0.7 * total_count)\n",
    "valid_count = int(0.2 * total_count)\n",
    "test_count = total_count - train_count - valid_count\n",
    "\n",
    "seed = torch.Generator().manual_seed(42)\n",
    "train_dataset, valid_dataset, test_dataset = torch.utils.data.random_split(\n",
    "    resume_dataset, (train_count, valid_count, test_count)\n",
    ")"
   ]
  },
  {
   "cell_type": "code",
   "execution_count": 19,
   "metadata": {},
   "outputs": [],
   "source": [
    "train_loader = DataLoader(train_dataset, batch_size=8, shuffle=True)\n",
    "valid_loader = DataLoader(valid_dataset, batch_size=16, shuffle=True)"
   ]
  },
  {
   "cell_type": "code",
   "execution_count": 20,
   "metadata": {},
   "outputs": [],
   "source": [
    "class ResumeParser(pl.LightningModule):\n",
    "    def __init__(self, model, tokenizer):\n",
    "        super().__init__()\n",
    "        self.model = model\n",
    "        self.tokenizer = tokenizer\n",
    "        self.metric = Accuracy(task = \"multiclass\", num_classes = n_classes)\n",
    "        \n",
    "    def training_step(self, batch, batch_idx):\n",
    "        buf, stk, typ = batch \n",
    "        strs = [[a, b] for a, b in zip(buf, stk)]\n",
    "        inputs = self.tokenizer(strs, return_tensors=\"pt\", padding=True).to(self.device)\n",
    "        output = self.model(**inputs, labels = typ)\n",
    "\n",
    "        return output.loss\n",
    "\n",
    "    def validation_step(self, batch, batch_idx):\n",
    "        \n",
    "        buf, stk, typ = batch \n",
    "        strs = [[a, b] for a, b in zip(buf, stk)]\n",
    "        inputs = self.tokenizer(strs, return_tensors=\"pt\", padding=True).to(self.device)\n",
    "        output = self.model(**inputs, labels = typ)\n",
    "        logits = output.logits \n",
    "        preds = logits.argmax(dim = -1)\n",
    "        \n",
    "        self.log(\"accuracy\", self.metric(preds, typ))\n",
    "\n",
    "        self.log(\"val_loss\", output.loss)\n",
    "\n",
    "    def configure_optimizers(self):\n",
    "        optimizer = torch.optim.Adam(self.model.parameters())\n",
    "        return optimizer"
   ]
  },
  {
   "cell_type": "code",
   "execution_count": 21,
   "metadata": {},
   "outputs": [
    {
     "name": "stderr",
     "output_type": "stream",
     "text": [
      "Some weights of BartForSequenceClassification were not initialized from the model checkpoint at facebook/bart-base and are newly initialized: ['classification_head.out_proj.bias', 'classification_head.dense.weight', 'classification_head.out_proj.weight', 'classification_head.dense.bias']\n",
      "You should probably TRAIN this model on a down-stream task to be able to use it for predictions and inference.\n"
     ]
    }
   ],
   "source": [
    "model = BartForSequenceClassification.from_pretrained(\"facebook/bart-base\", num_labels=n_classes)"
   ]
  },
  {
   "cell_type": "code",
   "execution_count": 22,
   "metadata": {},
   "outputs": [],
   "source": [
    "parser = ResumeParser(model, tokenizer)"
   ]
  },
  {
   "cell_type": "code",
   "execution_count": 23,
   "metadata": {},
   "outputs": [
    {
     "name": "stdout",
     "output_type": "stream",
     "text": [
      "MODELDEV: cpu INPUTDEV:  -1 LABELDEV:  -1\n"
     ]
    }
   ],
   "source": [
    "buf, stk, typ = next(iter(train_loader)) \n",
    "strs = [[a, b] for a, b in zip(buf, stk)]\n",
    "inputs = tokenizer(strs, return_tensors=\"pt\", padding=True).to('cpu')\n",
    "\n",
    "print(\"MODELDEV:\", model.device, \"INPUTDEV: \", inputs['input_ids'].get_device(), \"LABELDEV: \", typ.get_device())\n",
    "\n",
    "output = model(**inputs, labels = typ)"
   ]
  },
  {
   "cell_type": "code",
   "execution_count": 24,
   "metadata": {},
   "outputs": [
    {
     "name": "stdout",
     "output_type": "stream",
     "text": [
      "[<torch.cuda.device object at 0x7efc507082e0>, <torch.cuda.device object at 0x7efc50708970>, <torch.cuda.device object at 0x7efc5324af10>]\n"
     ]
    }
   ],
   "source": [
    "available_gpus = [torch.cuda.device(i) for i in range(torch.cuda.device_count())]\n",
    "print(available_gpus)"
   ]
  },
  {
   "cell_type": "code",
   "execution_count": 25,
   "metadata": {},
   "outputs": [
    {
     "name": "stderr",
     "output_type": "stream",
     "text": [
      "GPU available: True (cuda), used: True\n",
      "TPU available: False, using: 0 TPU cores\n",
      "IPU available: False, using: 0 IPUs\n",
      "HPU available: False, using: 0 HPUs\n",
      "LOCAL_RANK: 0 - CUDA_VISIBLE_DEVICES: [0,1,2]\n",
      "\n",
      "  | Name  | Type                          | Params\n",
      "--------------------------------------------------------\n",
      "0 | model | BartForSequenceClassification | 140 M \n",
      "--------------------------------------------------------\n",
      "140 M     Trainable params\n",
      "0         Non-trainable params\n",
      "140 M     Total params\n",
      "560.056   Total estimated model params size (MB)\n"
     ]
    },
    {
     "name": "stdout",
     "output_type": "stream",
     "text": [
      "Epoch 6:  55%|█████▍    | 458/835 [00:44<00:36, 10.32it/s, v_num=1]        "
     ]
    }
   ],
   "source": [
    "trainer = pl.Trainer(accelerator=\"gpu\", devices=1)\n",
    "trainer.fit(parser, train_loader, valid_loader)"
   ]
  },
  {
   "cell_type": "code",
   "execution_count": null,
   "metadata": {},
   "outputs": [],
   "source": [
    "%reload_ext tensorboard\n",
    "%tensorboard --logdir=lightning_logs/"
   ]
  },
  {
   "cell_type": "code",
   "execution_count": null,
   "metadata": {},
   "outputs": [],
   "source": []
  }
 ],
 "metadata": {
  "kernelspec": {
   "display_name": "sp23",
   "language": "python",
   "name": "python3"
  },
  "language_info": {
   "codemirror_mode": {
    "name": "ipython",
    "version": 3
   },
   "file_extension": ".py",
   "mimetype": "text/x-python",
   "name": "python",
   "nbconvert_exporter": "python",
   "pygments_lexer": "ipython3",
   "version": "3.9.16"
  },
  "orig_nbformat": 4
 },
 "nbformat": 4,
 "nbformat_minor": 2
}
