{
 "cells": [
  {
   "attachments": {},
   "cell_type": "markdown",
   "metadata": {},
   "source": [
    "# `extract_pdf.ipynb`\n",
    "This is the first iPython notebook that was opened, and contains some initial thoughts that I think may be helpful for future endeavours. For example, plotting the `y`-differences of consecutive sorted lines."
   ]
  },
  {
   "cell_type": "code",
   "execution_count": 1,
   "metadata": {},
   "outputs": [],
   "source": [
    "from pdf_wrapper import PDFWrapper\n",
    "import pdfminer\n",
    "import sys\n",
    "import matplotlib.patches as patches\n",
    "from bs4 import BeautifulSoup\n",
    "from pdf2image import convert_from_path\n",
    "import matplotlib.pyplot as plt\n",
    "import numpy as np\n",
    "from pdfminer.high_level import extract_pages\n",
    "from pdfminer.layout import LTTextContainer, LTTextLineHorizontal\n",
    "from tqdm import tqdm\n",
    "from pdfminer.layout import LAParams"
   ]
  },
  {
   "cell_type": "code",
   "execution_count": 32,
   "metadata": {},
   "outputs": [
    {
     "name": "stdout",
     "output_type": "stream",
     "text": [
      "Using laparams =  <LAParams: char_margin=2.0, line_margin=0.5, word_margin=0.1 all_texts=False>\n"
     ]
    },
    {
     "name": "stderr",
     "output_type": "stream",
     "text": [
      "15it [00:00, 16.32it/s]\n"
     ]
    }
   ],
   "source": [
    "fname = \"data/pdf/vita_web.pdf\"\n",
    "cv = PDFWrapper(fname, LAParams(boxes_flow=None))"
   ]
  },
  {
   "attachments": {},
   "cell_type": "markdown",
   "metadata": {},
   "source": [
    "## Plotting $y$-differences of lines \n",
    "\n",
    "The following code sorts all the lines on every page by $y$-coordinate, and plots a bar chart of the frequencies of the difference of every consecutive line, the intuition being different \"types\" of text will be spaced differently."
   ]
  },
  {
   "cell_type": "code",
   "execution_count": null,
   "metadata": {},
   "outputs": [],
   "source": [
    "import matplotlib as mpl\n",
    "mpl.rcParams['figure.dpi'] = 300\n",
    "ax = cv.render_page(1)   \n",
    "plt.show()"
   ]
  },
  {
   "cell_type": "code",
   "execution_count": 34,
   "metadata": {},
   "outputs": [],
   "source": [
    "def reject_outliers(data, m=3):\n",
    "    return data[(np.abs(data - data.mean()) < m * data.std())]"
   ]
  },
  {
   "cell_type": "code",
   "execution_count": null,
   "metadata": {},
   "outputs": [],
   "source": [
    "y_diff = cv.get_ydiff_distribution()\n",
    "y_diff = y_diff[y_diff >= 0]\n",
    "\n",
    "plt.hist(reject_outliers(y_diff), bins = 70)"
   ]
  },
  {
   "cell_type": "code",
   "execution_count": 36,
   "metadata": {},
   "outputs": [],
   "source": [
    "uni, cnts = np.unique(y_diff, return_counts = True)"
   ]
  },
  {
   "cell_type": "code",
   "execution_count": null,
   "metadata": {},
   "outputs": [],
   "source": [
    "laparams = LAParams(line_margin = 1.0)\n",
    "print(laparams)\n",
    "cv = PDFWrapper(fname, laparams_ = laparams)\n",
    "cv.render_page(1)"
   ]
  },
  {
   "attachments": {},
   "cell_type": "markdown",
   "metadata": {},
   "source": [
    "## Extracting font style features "
   ]
  },
  {
   "cell_type": "code",
   "execution_count": null,
   "metadata": {},
   "outputs": [],
   "source": [
    "# This code enumerates text lines and gets the *style* (e.g. font name, size, etc) of the first character of every line. \n",
    "\n",
    "line_cnt = 0\n",
    "from sys import exit\n",
    "for page_layout in tqdm(extract_pages(fname, laparams = laparams)):\n",
    "    for element in page_layout:\n",
    "        if isinstance(element, LTTextContainer):\n",
    "            for line in element:\n",
    "                if(isinstance(line, LTTextLineHorizontal)):\n",
    "                    print(line.__dir__())\n",
    "                    el = line._objs[0]\n",
    "                    # print(type(el))\n",
    "                    # print(el.__dir__())\n",
    "                    print(el.size, el.fontname, el.matrix, el.bbox)\n",
    "\n",
    "print(line_cnt)"
   ]
  }
 ],
 "metadata": {
  "kernelspec": {
   "display_name": "base",
   "language": "python",
   "name": "python3"
  },
  "language_info": {
   "codemirror_mode": {
    "name": "ipython",
    "version": 3
   },
   "file_extension": ".py",
   "mimetype": "text/x-python",
   "name": "python",
   "nbconvert_exporter": "python",
   "pygments_lexer": "ipython3",
   "version": "3.9.13"
  },
  "orig_nbformat": 4,
  "vscode": {
   "interpreter": {
    "hash": "c6e4e9f98eb68ad3b7c296f83d20e6de614cb42e90992a65aa266555a3137d0d"
   }
  }
 },
 "nbformat": 4,
 "nbformat_minor": 2
}
