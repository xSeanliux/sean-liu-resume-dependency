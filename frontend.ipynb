{
 "cells": [
  {
   "cell_type": "code",
   "execution_count": 1,
   "metadata": {},
   "outputs": [
    {
     "name": "stderr",
     "output_type": "stream",
     "text": [
      "/opt/homebrew/Caskroom/miniforge/base/lib/python3.9/site-packages/tqdm/auto.py:22: TqdmWarning: IProgress not found. Please update jupyter and ipywidgets. See https://ipywidgets.readthedocs.io/en/stable/user_install.html\n",
      "  from .autonotebook import tqdm as notebook_tqdm\n"
     ]
    }
   ],
   "source": [
    "import pandas as pd \n",
    "import torch\n",
    "from torchmetrics import Accuracy\n",
    "import transformers\n",
    "import lightning.pytorch as pl\n",
    "from tqdm import tqdm"
   ]
  },
  {
   "cell_type": "code",
   "execution_count": 2,
   "metadata": {},
   "outputs": [],
   "source": [
    "from model.model import ResumeParser"
   ]
  },
  {
   "cell_type": "code",
   "execution_count": 3,
   "metadata": {},
   "outputs": [],
   "source": [
    "from model.utils import label_idx, idx_label\n",
    "\n",
    "args = {\n",
    "    'positional_dim': 32,\n",
    "    'hidden_dim': 256,\n",
    "    'classifier_dropout': 0.3,\n",
    "    'num_classes': 4,\n",
    "    'use_llm': False,\n",
    "    'n_hidden': 1, # total layers: n_hidden + 2\n",
    "}\n",
    "\n",
    "tokenizer_args = {\n",
    "    'padding': 'max_length',\n",
    "    'return_tensors': 'pt',\n",
    "}"
   ]
  },
  {
   "cell_type": "code",
   "execution_count": 4,
   "metadata": {},
   "outputs": [],
   "source": [
    "from transformers import BertTokenizerFast, BertModel"
   ]
  },
  {
   "cell_type": "code",
   "execution_count": 5,
   "metadata": {},
   "outputs": [
    {
     "name": "stderr",
     "output_type": "stream",
     "text": [
      "Some weights of the model checkpoint at bert-base-cased were not used when initializing BertModel: ['cls.predictions.bias', 'cls.seq_relationship.weight', 'cls.seq_relationship.bias', 'cls.predictions.transform.dense.bias', 'cls.predictions.transform.LayerNorm.weight', 'cls.predictions.decoder.weight', 'cls.predictions.transform.LayerNorm.bias', 'cls.predictions.transform.dense.weight']\n",
      "- This IS expected if you are initializing BertModel from the checkpoint of a model trained on another task or with another architecture (e.g. initializing a BertForSequenceClassification model from a BertForPreTraining model).\n",
      "- This IS NOT expected if you are initializing BertModel from the checkpoint of a model that you expect to be exactly identical (initializing a BertForSequenceClassification model from a BertForSequenceClassification model).\n"
     ]
    }
   ],
   "source": [
    "tokenizer = BertTokenizerFast.from_pretrained(\"bert-base-cased\")\n",
    "model = BertModel.from_pretrained(\"bert-base-cased\")"
   ]
  },
  {
   "cell_type": "code",
   "execution_count": 6,
   "metadata": {},
   "outputs": [
    {
     "name": "stdout",
     "output_type": "stream",
     "text": [
      "Device:  cpu\n"
     ]
    }
   ],
   "source": [
    "parser = ResumeParser.load_from_checkpoint(\"model/epoch_style.ckpt\", backend=model, args=args).eval()"
   ]
  },
  {
   "cell_type": "code",
   "execution_count": 7,
   "metadata": {},
   "outputs": [],
   "source": [
    "in_file = \"./data/pdf/jihualde_CV.pdf\""
   ]
  },
  {
   "cell_type": "code",
   "execution_count": 8,
   "metadata": {},
   "outputs": [
    {
     "name": "stdout",
     "output_type": "stream",
     "text": [
      "Using laparams =  <LAParams: char_margin=2.0, line_margin=0.5, word_margin=0.1 all_texts=False>\n"
     ]
    },
    {
     "name": "stderr",
     "output_type": "stream",
     "text": [
      "30it [00:01, 17.37it/s]\n"
     ]
    },
    {
     "name": "stdout",
     "output_type": "stream",
     "text": [
      "Document has  30 pages\n",
      "Length of dep: 1298\n"
     ]
    }
   ],
   "source": [
    "from annotation_object import AnnotationObject, serialize\n",
    "anno = AnnotationObject(in_file)"
   ]
  },
  {
   "cell_type": "code",
   "execution_count": 9,
   "metadata": {},
   "outputs": [
    {
     "name": "stderr",
     "output_type": "stream",
     "text": [
      "100%|██████████| 1298/1298 [00:00<00:00, 9025.23it/s]\n"
     ]
    },
    {
     "name": "stdout",
     "output_type": "stream",
     "text": [
      "Serializing... <annotation_object.AnnotationObject object at 0x16c267d30>\n",
      "Dumped to ./data/pkl/jihualde_CV.pkl.\n"
     ]
    }
   ],
   "source": [
    "json_format = anno.json_format\n",
    "wrapper = anno.wrapper\n",
    "lines = wrapper.lines\n",
    "with tqdm(total = anno.n_lines) as pbar:\n",
    "    while not anno.is_done:\n",
    "        stk_idx = anno.stack[-1]\n",
    "        buf_idx = anno.current_idx\n",
    "        # print(json_format[buf_idx])\n",
    "        buf_string = None\n",
    "        stk_string = None\n",
    "        lbuf = None\n",
    "        rbuf = None \n",
    "        lstk = None \n",
    "        rstk = None \n",
    "        buf_string = None\n",
    "        stk_string = None\n",
    "        lbuf = None\n",
    "        rbuf = None \n",
    "        lstk = None \n",
    "        rstk = None \n",
    "        hstk = None\n",
    "        boldbuf = None\n",
    "        italbuf = None\n",
    "        boldstk = None\n",
    "        italstk = None\n",
    "        hbuf = None\n",
    "        if(buf_idx == -1):\n",
    "            buf_string = \"$ROOT\"\n",
    "            lbuf = 0\n",
    "            rbuf = 100\n",
    "            hbuf = 30\n",
    "            boldbuf = 0\n",
    "            italbuf = 0\n",
    "        else:\n",
    "            buf_string = \"$ROOT\" if buf_idx == -1 else json_format[buf_idx]['text']\n",
    "            lbuf = json_format[buf_idx]['x']\n",
    "            rbuf = json_format[buf_idx]['x'] + json_format[buf_idx]['width']\n",
    "            hbuf = int(json_format[buf_idx]['height'])\n",
    "            try:\n",
    "                linebuf = lines[json_format[buf_idx]['page']][json_format[buf_idx]['idx_in_page']]\n",
    "            except:\n",
    "                print(f\"Tried to get line #{json_format[buf_idx]['idx_in_page']} of page {json_format[buf_idx]['page']}; document has {len(wrapper.elements)}/{len(wrapper.lines)} pages, and that page has {len(lines[json_format[buf_idx]['idx_in_page']])} lines\")\n",
    "                raise KeyError\n",
    "            fontname = linebuf._objs[0].fontname.lower()\n",
    "            boldbuf = 1 if \"bold\" in fontname else 0\n",
    "            italbuf = 1 if \"italic\" in fontname else 0\n",
    "\n",
    "        if(stk_idx == -1):\n",
    "            stk_string = \"$ROOT\"\n",
    "            lstk = 0\n",
    "            rstk = 100\n",
    "            hstk = 30\n",
    "            boldstk = 0\n",
    "            italstk = 0\n",
    "        else:\n",
    "            stk_string = \"$ROOT\" if stk_idx == -1 else json_format[stk_idx]['text']\n",
    "            lstk = json_format[stk_idx]['x']\n",
    "            rstk = json_format[stk_idx]['x'] + json_format[stk_idx]['width']\n",
    "            hstk = int(json_format[stk_idx]['height'])\n",
    "            linebuf = lines[json_format[stk_idx]['page']][json_format[stk_idx]['idx_in_page']]\n",
    "            fontname = linebuf._objs[0].fontname.lower()\n",
    "            boldstk = 1 if \"bold\" in fontname else 0\n",
    "            italstk = 1 if \"italic\" in fontname else 0\n",
    "        sty = torch.Tensor([[italbuf, boldbuf, italstk, boldstk]]).long()\n",
    "        pos = torch.floor(torch.Tensor([lbuf, rbuf, lstk, rstk])).long()\n",
    "        batch = (None, None, pos, sty, None)\n",
    "        logits = parser.get_logits(batch)\n",
    "        action_order = (-logits).argsort().squeeze() #largest probabilities first\n",
    "        for i, action in enumerate(action_order):\n",
    "            predicted_action = idx_label[action.item()]\n",
    "            # print(predicted_action)\n",
    "            if(predicted_action == \"discard\" and anno.discard() == 0):\n",
    "                pbar.update(1)\n",
    "                break\n",
    "            elif(predicted_action == \"merge\" and anno.merge_action() == 0):\n",
    "                pbar.update(1)\n",
    "                break\n",
    "            elif(predicted_action == \"pop\" and anno.pop_action() == 0):\n",
    "                break\n",
    "            elif(predicted_action == \"subordinate\" and anno.subordinate_action() == 0):\n",
    "                pbar.update(1)\n",
    "                break\n",
    "            else:\n",
    "                assert(i != 3)\n",
    "        \n",
    "    \n",
    "serialize(anno)"
   ]
  },
  {
   "cell_type": "code",
   "execution_count": null,
   "metadata": {},
   "outputs": [],
   "source": []
  },
  {
   "cell_type": "code",
   "execution_count": null,
   "metadata": {},
   "outputs": [],
   "source": []
  }
 ],
 "metadata": {
  "kernelspec": {
   "display_name": "fwdlab_sp23",
   "language": "python",
   "name": "python3"
  },
  "language_info": {
   "codemirror_mode": {
    "name": "ipython",
    "version": 3
   },
   "file_extension": ".py",
   "mimetype": "text/x-python",
   "name": "python",
   "nbconvert_exporter": "python",
   "pygments_lexer": "ipython3",
   "version": "3.9.13"
  },
  "orig_nbformat": 4
 },
 "nbformat": 4,
 "nbformat_minor": 2
}
