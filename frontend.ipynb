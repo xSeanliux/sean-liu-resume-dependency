{
 "cells": [
  {
   "cell_type": "code",
   "execution_count": 1,
   "metadata": {},
   "outputs": [
    {
     "name": "stderr",
     "output_type": "stream",
     "text": [
      "/opt/homebrew/Caskroom/miniforge/base/lib/python3.9/site-packages/tqdm/auto.py:22: TqdmWarning: IProgress not found. Please update jupyter and ipywidgets. See https://ipywidgets.readthedocs.io/en/stable/user_install.html\n",
      "  from .autonotebook import tqdm as notebook_tqdm\n"
     ]
    }
   ],
   "source": [
    "import pandas as pd \n",
    "import torch\n",
    "from torchmetrics import Accuracy\n",
    "import transformers\n",
    "import lightning.pytorch as pl\n",
    "from tqdm import tqdm"
   ]
  },
  {
   "cell_type": "code",
   "execution_count": 2,
   "metadata": {},
   "outputs": [],
   "source": [
    "from model.model import ResumeParser"
   ]
  },
  {
   "cell_type": "code",
   "execution_count": 3,
   "metadata": {},
   "outputs": [],
   "source": [
    "args = {\n",
    "    'positional_dim': 32,\n",
    "    'hidden_dim': 256,\n",
    "    'classifier_dropout': 0.3,\n",
    "    'num_classes': 4,\n",
    "    'n_hidden': 1, # total layers: n_hidden + 2\n",
    "}\n",
    "\n",
    "tokenizer_args = {\n",
    "    'padding': 'max_length',\n",
    "    'return_tensors': 'pt',\n",
    "}\n",
    "\n",
    "label_idx = {'discard': 0, 'merge': 1, 'pop': 2, 'subordinate': 3} \n",
    "idx_label = {0: 'discard', 1: 'merge', 2: 'pop', 3: 'subordinate'}"
   ]
  },
  {
   "cell_type": "code",
   "execution_count": 4,
   "metadata": {},
   "outputs": [],
   "source": [
    "from transformers import BertTokenizerFast, BertModel"
   ]
  },
  {
   "cell_type": "code",
   "execution_count": 5,
   "metadata": {},
   "outputs": [
    {
     "name": "stderr",
     "output_type": "stream",
     "text": [
      "Some weights of the model checkpoint at bert-base-cased were not used when initializing BertModel: ['cls.seq_relationship.bias', 'cls.predictions.transform.LayerNorm.weight', 'cls.predictions.transform.dense.weight', 'cls.predictions.decoder.weight', 'cls.predictions.bias', 'cls.predictions.transform.dense.bias', 'cls.seq_relationship.weight', 'cls.predictions.transform.LayerNorm.bias']\n",
      "- This IS expected if you are initializing BertModel from the checkpoint of a model trained on another task or with another architecture (e.g. initializing a BertForSequenceClassification model from a BertForPreTraining model).\n",
      "- This IS NOT expected if you are initializing BertModel from the checkpoint of a model that you expect to be exactly identical (initializing a BertForSequenceClassification model from a BertForSequenceClassification model).\n"
     ]
    }
   ],
   "source": [
    "tokenizer = BertTokenizerFast.from_pretrained(\"bert-base-cased\")\n",
    "model = BertModel.from_pretrained(\"bert-base-cased\")"
   ]
  },
  {
   "cell_type": "code",
   "execution_count": 6,
   "metadata": {},
   "outputs": [
    {
     "name": "stdout",
     "output_type": "stream",
     "text": [
      "Device:  cpu\n"
     ]
    }
   ],
   "source": [
    "parser = ResumeParser.load_from_checkpoint(\"model/epoch72.ckpt\", backend=model, args=args).eval()"
   ]
  },
  {
   "cell_type": "code",
   "execution_count": 7,
   "metadata": {},
   "outputs": [],
   "source": [
    "in_file = \"./data/pdf/BhattCV 221.pdf\""
   ]
  },
  {
   "cell_type": "code",
   "execution_count": 8,
   "metadata": {},
   "outputs": [
    {
     "name": "stdout",
     "output_type": "stream",
     "text": [
      "Using laparams =  <LAParams: char_margin=2.0, line_margin=0.5, word_margin=0.1 all_texts=False>\n"
     ]
    },
    {
     "name": "stderr",
     "output_type": "stream",
     "text": [
      "18it [00:01, 10.42it/s]\n"
     ]
    },
    {
     "name": "stdout",
     "output_type": "stream",
     "text": [
      "Length of dep: 800\n"
     ]
    }
   ],
   "source": [
    "from annotation_object import AnnotationObject, serialize\n",
    "anno = AnnotationObject(in_file)"
   ]
  },
  {
   "cell_type": "code",
   "execution_count": 9,
   "metadata": {},
   "outputs": [
    {
     "name": "stderr",
     "output_type": "stream",
     "text": [
      "100%|██████████| 800/800 [06:45<00:00,  1.97it/s]"
     ]
    },
    {
     "name": "stdout",
     "output_type": "stream",
     "text": [
      "Serializing... <annotation_object.AnnotationObject object at 0x17f5bdeb0>\n",
      "Dumped to ./data/pkl/BhattCV 221.pkl.\n"
     ]
    },
    {
     "name": "stderr",
     "output_type": "stream",
     "text": [
      "\n"
     ]
    }
   ],
   "source": [
    "json_format = anno.json_format\n",
    "with tqdm(total = anno.n_lines) as pbar:\n",
    "    while not anno.is_done:\n",
    "        stk_idx = anno.stack[-1]\n",
    "        buf_idx = anno.current_idx\n",
    "        # print(json_format[buf_idx])\n",
    "        buf_string = None\n",
    "        stk_string = None\n",
    "        lbuf = None\n",
    "        rbuf = None \n",
    "        lstk = None \n",
    "        rstk = None \n",
    "        if(buf_idx == -1):\n",
    "            buf_string = \"$ROOT\"\n",
    "            lbuf = 0\n",
    "            rbuf = 100\n",
    "        else:\n",
    "            buf_string = \"$ROOT\" if buf_idx == -1 else json_format[buf_idx]['text']\n",
    "            lbuf = json_format[buf_idx]['x']\n",
    "            rbuf = json_format[buf_idx]['x'] + json_format[buf_idx]['width']\n",
    "        if(stk_idx == -1):\n",
    "            stk_string = \"$ROOT\"\n",
    "            lstk = 0\n",
    "            rstk = 100\n",
    "        else:\n",
    "            stk_string = \"$ROOT\" if stk_idx == -1 else json_format[stk_idx]['text']\n",
    "            lstk = json_format[stk_idx]['x']\n",
    "            rstk = json_format[stk_idx]['x'] + json_format[stk_idx]['width']\n",
    "        buf_tok = tokenizer(buf_string, **tokenizer_args)\n",
    "        stk_tok = tokenizer(buf_string, **tokenizer_args)\n",
    "        pos = torch.floor(torch.Tensor([lbuf, rbuf, lstk, rstk])).long()\n",
    "        batch = (buf_tok, stk_tok, pos, None)\n",
    "        logits = parser.get_logits(batch)\n",
    "\n",
    "        action_order = (-logits).argsort().squeeze() #largest probabilities first\n",
    "        for i, action in enumerate(action_order):\n",
    "            predicted_action = idx_label[action.item()]\n",
    "            # print(predicted_action)\n",
    "            if(predicted_action == \"discard\" and anno.discard() == 0):\n",
    "                pbar.update(1)\n",
    "                break\n",
    "            elif(predicted_action == \"merge\" and anno.merge_action() == 0):\n",
    "                pbar.update(1)\n",
    "                break\n",
    "            elif(predicted_action == \"pop\" and anno.pop_action() == 0):\n",
    "                break\n",
    "            elif(predicted_action == \"subordinate\" and anno.subordinate_action() == 0):\n",
    "                pbar.update(1)\n",
    "                break\n",
    "            else:\n",
    "                assert(i != 3)\n",
    "        \n",
    "    \n",
    "serialize(anno)"
   ]
  },
  {
   "cell_type": "code",
   "execution_count": null,
   "metadata": {},
   "outputs": [],
   "source": []
  }
 ],
 "metadata": {
  "kernelspec": {
   "display_name": "fwdlab_sp23",
   "language": "python",
   "name": "python3"
  },
  "language_info": {
   "codemirror_mode": {
    "name": "ipython",
    "version": 3
   },
   "file_extension": ".py",
   "mimetype": "text/x-python",
   "name": "python",
   "nbconvert_exporter": "python",
   "pygments_lexer": "ipython3",
   "version": "3.9.13"
  },
  "orig_nbformat": 4
 },
 "nbformat": 4,
 "nbformat_minor": 2
}
